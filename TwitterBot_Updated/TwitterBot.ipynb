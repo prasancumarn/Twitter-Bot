{
 "cells": [
  {
   "cell_type": "code",
   "execution_count": 29,
   "metadata": {},
   "outputs": [],
   "source": [
    "import tweepy\n",
    "import tkinter"
   ]
  },
  {
   "cell_type": "code",
   "execution_count": 40,
   "metadata": {},
   "outputs": [],
   "source": [
    "from tkinter import *"
   ]
  },
  {
   "cell_type": "code",
   "execution_count": 49,
   "metadata": {},
   "outputs": [],
   "source": [
    "import tkinter as tk"
   ]
  },
  {
   "cell_type": "code",
   "execution_count": 30,
   "metadata": {},
   "outputs": [],
   "source": [
    "consumer_key = 'M15F2x2FBFIuieZo1QCi69sTI'\n",
    "consumer_secret = 'l6kAsudf7mJkRuGVQT1ZTlA8Zins7Tm7kHPoQj9rVjx3MP7VBb'\n",
    "access_token = '2240511859-ozJIgtvlaJk6kPjOyqIb6w2H3sZ8itZ7lePND3I'\n",
    "access_token_secret = 'V9UzjOzZoYBHFY24yHvNVMMCugPF750uBvtbb40Z68nZZ'"
   ]
  },
  {
   "cell_type": "code",
   "execution_count": 31,
   "metadata": {},
   "outputs": [],
   "source": [
    "auth = tweepy.OAuthHandler(consumer_key, consumer_secret)\n",
    "auth.set_access_token(access_token, access_token_secret)\n",
    "api = tweepy.API(auth)"
   ]
  },
  {
   "cell_type": "code",
   "execution_count": 32,
   "metadata": {},
   "outputs": [
    {
     "name": "stdout",
     "output_type": "stream",
     "text": [
      "Vatsal Shah\n"
     ]
    }
   ],
   "source": [
    "user = api.me()\n",
    "print (user.name)"
   ]
  },
  {
   "cell_type": "code",
   "execution_count": 33,
   "metadata": {
    "scrolled": true
   },
   "outputs": [
    {
     "name": "stdout",
     "output_type": "stream",
     "text": [
      "Followed everyone that is following Vatsal Shah\n",
      "Followed everyone that is following Vatsal Shah\n"
     ]
    },
    {
     "ename": "TweepError",
     "evalue": "[{'code': 160, 'message': \"You've already requested to follow SashaBanksWWE9.\"}]",
     "output_type": "error",
     "traceback": [
      "\u001b[1;31m---------------------------------------------------------------------------\u001b[0m",
      "\u001b[1;31mTweepError\u001b[0m                                Traceback (most recent call last)",
      "\u001b[1;32m<ipython-input-33-6c89d9861646>\u001b[0m in \u001b[0;36m<module>\u001b[1;34m()\u001b[0m\n\u001b[0;32m      1\u001b[0m \u001b[1;32mfor\u001b[0m \u001b[0mfollower\u001b[0m \u001b[1;32min\u001b[0m \u001b[0mtweepy\u001b[0m\u001b[1;33m.\u001b[0m\u001b[0mCursor\u001b[0m\u001b[1;33m(\u001b[0m\u001b[0mapi\u001b[0m\u001b[1;33m.\u001b[0m\u001b[0mfollowers\u001b[0m\u001b[1;33m)\u001b[0m\u001b[1;33m.\u001b[0m\u001b[0mitems\u001b[0m\u001b[1;33m(\u001b[0m\u001b[1;33m)\u001b[0m\u001b[1;33m:\u001b[0m\u001b[1;33m\u001b[0m\u001b[0m\n\u001b[1;32m----> 2\u001b[1;33m     \u001b[0mfollower\u001b[0m\u001b[1;33m.\u001b[0m\u001b[0mfollow\u001b[0m\u001b[1;33m(\u001b[0m\u001b[1;33m)\u001b[0m\u001b[1;33m\u001b[0m\u001b[0m\n\u001b[0m\u001b[0;32m      3\u001b[0m     \u001b[0mprint\u001b[0m \u001b[1;33m(\u001b[0m\u001b[1;34m\"Followed everyone that is following \"\u001b[0m \u001b[1;33m+\u001b[0m \u001b[0muser\u001b[0m\u001b[1;33m.\u001b[0m\u001b[0mname\u001b[0m\u001b[1;33m)\u001b[0m\u001b[1;33m\u001b[0m\u001b[0m\n",
      "\u001b[1;32m~\\Anaconda3\\lib\\site-packages\\tweepy\\models.py\u001b[0m in \u001b[0;36mfollow\u001b[1;34m(self)\u001b[0m\n\u001b[0;32m    175\u001b[0m \u001b[1;33m\u001b[0m\u001b[0m\n\u001b[0;32m    176\u001b[0m     \u001b[1;32mdef\u001b[0m \u001b[0mfollow\u001b[0m\u001b[1;33m(\u001b[0m\u001b[0mself\u001b[0m\u001b[1;33m)\u001b[0m\u001b[1;33m:\u001b[0m\u001b[1;33m\u001b[0m\u001b[0m\n\u001b[1;32m--> 177\u001b[1;33m         \u001b[0mself\u001b[0m\u001b[1;33m.\u001b[0m\u001b[0m_api\u001b[0m\u001b[1;33m.\u001b[0m\u001b[0mcreate_friendship\u001b[0m\u001b[1;33m(\u001b[0m\u001b[0muser_id\u001b[0m\u001b[1;33m=\u001b[0m\u001b[0mself\u001b[0m\u001b[1;33m.\u001b[0m\u001b[0mid\u001b[0m\u001b[1;33m)\u001b[0m\u001b[1;33m\u001b[0m\u001b[0m\n\u001b[0m\u001b[0;32m    178\u001b[0m         \u001b[0mself\u001b[0m\u001b[1;33m.\u001b[0m\u001b[0mfollowing\u001b[0m \u001b[1;33m=\u001b[0m \u001b[1;32mTrue\u001b[0m\u001b[1;33m\u001b[0m\u001b[0m\n\u001b[0;32m    179\u001b[0m \u001b[1;33m\u001b[0m\u001b[0m\n",
      "\u001b[1;32m~\\Anaconda3\\lib\\site-packages\\tweepy\\binder.py\u001b[0m in \u001b[0;36m_call\u001b[1;34m(*args, **kwargs)\u001b[0m\n\u001b[0;32m    248\u001b[0m             \u001b[1;32mreturn\u001b[0m \u001b[0mmethod\u001b[0m\u001b[1;33m\u001b[0m\u001b[0m\n\u001b[0;32m    249\u001b[0m         \u001b[1;32melse\u001b[0m\u001b[1;33m:\u001b[0m\u001b[1;33m\u001b[0m\u001b[0m\n\u001b[1;32m--> 250\u001b[1;33m             \u001b[1;32mreturn\u001b[0m \u001b[0mmethod\u001b[0m\u001b[1;33m.\u001b[0m\u001b[0mexecute\u001b[0m\u001b[1;33m(\u001b[0m\u001b[1;33m)\u001b[0m\u001b[1;33m\u001b[0m\u001b[0m\n\u001b[0m\u001b[0;32m    251\u001b[0m \u001b[1;33m\u001b[0m\u001b[0m\n\u001b[0;32m    252\u001b[0m     \u001b[1;31m# Set pagination mode\u001b[0m\u001b[1;33m\u001b[0m\u001b[1;33m\u001b[0m\u001b[0m\n",
      "\u001b[1;32m~\\Anaconda3\\lib\\site-packages\\tweepy\\binder.py\u001b[0m in \u001b[0;36mexecute\u001b[1;34m(self)\u001b[0m\n\u001b[0;32m    232\u001b[0m                     \u001b[1;32mraise\u001b[0m \u001b[0mRateLimitError\u001b[0m\u001b[1;33m(\u001b[0m\u001b[0merror_msg\u001b[0m\u001b[1;33m,\u001b[0m \u001b[0mresp\u001b[0m\u001b[1;33m)\u001b[0m\u001b[1;33m\u001b[0m\u001b[0m\n\u001b[0;32m    233\u001b[0m                 \u001b[1;32melse\u001b[0m\u001b[1;33m:\u001b[0m\u001b[1;33m\u001b[0m\u001b[0m\n\u001b[1;32m--> 234\u001b[1;33m                     \u001b[1;32mraise\u001b[0m \u001b[0mTweepError\u001b[0m\u001b[1;33m(\u001b[0m\u001b[0merror_msg\u001b[0m\u001b[1;33m,\u001b[0m \u001b[0mresp\u001b[0m\u001b[1;33m,\u001b[0m \u001b[0mapi_code\u001b[0m\u001b[1;33m=\u001b[0m\u001b[0mapi_error_code\u001b[0m\u001b[1;33m)\u001b[0m\u001b[1;33m\u001b[0m\u001b[0m\n\u001b[0m\u001b[0;32m    235\u001b[0m \u001b[1;33m\u001b[0m\u001b[0m\n\u001b[0;32m    236\u001b[0m             \u001b[1;31m# Parse the response payload\u001b[0m\u001b[1;33m\u001b[0m\u001b[1;33m\u001b[0m\u001b[0m\n",
      "\u001b[1;31mTweepError\u001b[0m: [{'code': 160, 'message': \"You've already requested to follow SashaBanksWWE9.\"}]"
     ]
    }
   ],
   "source": [
    "for follower in tweepy.Cursor(api.followers).items():\n",
    "    follower.follow()\n",
    "    print (\"Followed everyone that is following \" + user.name)"
   ]
  },
  {
   "cell_type": "code",
   "execution_count": 39,
   "metadata": {},
   "outputs": [],
   "source": [
    "search = \"#WorldCup2018\"\n",
    "numberOfTweets = 1\n",
    "for tweet in tweepy.Cursor(api.search, search).items(numberOfTweets):\n",
    "    try:\n",
    "        tweet.retweet()\n",
    "        print('Retweeted the tweet')\n",
    "    except tweepy.TweepError as e:\n",
    "        print(e.reason)\n",
    "    except StopIteration:\n",
    "        break"
   ]
  },
  {
   "cell_type": "code",
   "execution_count": 36,
   "metadata": {},
   "outputs": [],
   "source": [
    "tweetID = 2240511859\n",
    "username = \"@vatsy61\""
   ]
  },
  {
   "cell_type": "code",
   "execution_count": 38,
   "metadata": {},
   "outputs": [
    {
     "name": "stdout",
     "output_type": "stream",
     "text": [
      "Replied with Testing\n"
     ]
    }
   ],
   "source": [
    "phrase = \"Testing\"\n",
    "for tweet in tweepy.Cursor(api.search, search).items(numberOfTweets):\n",
    "    try:\n",
    "        tweetId = 2240511859\n",
    "        username = \"@vatsy61\"\n",
    "        api.update_status(username + \" \" + phrase, in_reply_to_status_id = tweetId)\n",
    "        print (\"Replied with \" + phrase)\n",
    "    except tweepy.TweepError as e:\n",
    "        print(e.reason)\n",
    "    except StopIteration:\n",
    "        break"
   ]
  },
  {
   "cell_type": "code",
   "execution_count": 63,
   "metadata": {},
   "outputs": [],
   "source": [
    "root = Tk()\n",
    "label1 = Label( root, text=\"Search\")\n",
    "E1 = Entry(root, bd =5)\n",
    "label2 = Label( root, text=\"Number of Tweets\")\n",
    "E2 = Entry(root, bd =5)\n",
    "label3 = Label( root, text=\"Response\")\n",
    "E3 = Entry(root, bd =5)\n",
    "label4 = Label( root, text=\"Reply?\")\n",
    "E4 = Entry(root, bd =5)\n",
    "label5 = Label( root, text=\"Retweet?\")\n",
    "E5 = Entry(root, bd =5)\n",
    "label6 = Label( root, text=\"Favorite?\")\n",
    "E6 = Entry(root, bd =5)\n",
    "label7 = Label( root, text=\"Follow?\")\n",
    "E7 = Entry(root, bd =5)\n",
    "def getE1():\n",
    "    return E1.get()\n",
    "def getE2():\n",
    "    return E2.get()\n",
    "def getE3():\n",
    "    return E3.get()\n",
    "def getE4():\n",
    "    return E4.get()\n",
    "def getE5():\n",
    "    return E5.get()\n",
    "def getE6():\n",
    "    return E6.get()\n",
    "def getE7():\n",
    "    return E7.get()"
   ]
  },
  {
   "cell_type": "code",
   "execution_count": 64,
   "metadata": {},
   "outputs": [],
   "source": [
    "def mainFunction():\n",
    "    getE1()\n",
    "    search = getE1()\n",
    "    getE2()\n",
    "    numberOfTweets = getE2()\n",
    "    numberOfTweets = int(numberOfTweets)\n",
    "    getE3()\n",
    "    phrase = getE3()\n",
    "    getE4()\n",
    "    reply = getE4()\n",
    "    getE5()\n",
    "    retweet = getE5()\n",
    "    getE6()\n",
    "    favorite = getE6()\n",
    "    getE7()\n",
    "    follow = getE7()\n",
    "    if reply == \"yes\":\n",
    "        for tweet in tweepy.Cursor(api.search, search).items(numberOfTweets):\n",
    "            try:\n",
    "                #Reply\n",
    "                print('\\nTweet by: @' + tweet.user.screen_name)\n",
    "                print('ID: @' + str(tweet.user.id))\n",
    "                tweetId = tweet.user.id\n",
    "                username = tweet.user.screen_name\n",
    "                api.update_status(username + \" \" + phrase, in_reply_to_status_id = tweetId)\n",
    "                print (\"Replied with \" + phrase)            \n",
    "            except tweepy.TweepError as e:\n",
    "                print(e.reason)\n",
    "            except StopIteration:\n",
    "                break\n",
    "    if retweet == \"yes\": \n",
    "        for tweet in tweepy.Cursor(api.search, search).items(numberOfTweets):\n",
    "            try:\n",
    "                #Retweet\n",
    "                tweet.retweet()\n",
    "                print('Retweeted the tweet')\n",
    "            except tweepy.TweepError as e:\n",
    "                print(e.reason)\n",
    "            except StopIteration:\n",
    "                break\n",
    "    if favorite == \"yes\": \n",
    "        for tweet in tweepy.Cursor(api.search, search).items(numberOfTweets):\n",
    "            try:\n",
    "                #Favorite\n",
    "                tweet.favorite()\n",
    "                print('Favorited the tweet')   \n",
    "            except tweepy.TweepError as e:\n",
    "                print(e.reason)\n",
    "            except StopIteration:\n",
    "                break\n",
    "    if follow == \"yes\": \n",
    "        for tweet in tweepy.Cursor(api.search, search).items(numberOfTweets):\n",
    "            try:\n",
    "                #Follow\n",
    "                tweet.user.follow()\n",
    "                print('Followed the user')\n",
    "            except tweepy.TweepError as e:\n",
    "                print(e.reason)\n",
    "            except StopIteration:\n",
    "                break "
   ]
  },
  {
   "cell_type": "code",
   "execution_count": 65,
   "metadata": {},
   "outputs": [],
   "source": [
    "submit = Button(root, text =\"Submit\", command = mainFunction)"
   ]
  },
  {
   "cell_type": "code",
   "execution_count": 66,
   "metadata": {},
   "outputs": [
    {
     "name": "stdout",
     "output_type": "stream",
     "text": [
      "\n",
      "Tweet by: @RT_russian\n",
      "ID: @338960856\n",
      "Replied with Testing\n"
     ]
    }
   ],
   "source": [
    "label1.pack()\n",
    "E1.pack()\n",
    "label2.pack()\n",
    "E2.pack()\n",
    "label3.pack()\n",
    "E3.pack()\n",
    "label4.pack()\n",
    "E4.pack()\n",
    "label5.pack()\n",
    "E5.pack()\n",
    "label6.pack()\n",
    "E6.pack()\n",
    "label7.pack()\n",
    "E7.pack()\n",
    "submit.pack(side =BOTTOM)\n",
    "root.mainloop()"
   ]
  },
  {
   "cell_type": "code",
   "execution_count": null,
   "metadata": {},
   "outputs": [],
   "source": []
  }
 ],
 "metadata": {
  "kernelspec": {
   "display_name": "Python 3",
   "language": "python",
   "name": "python3"
  },
  "language_info": {
   "codemirror_mode": {
    "name": "ipython",
    "version": 3
   },
   "file_extension": ".py",
   "mimetype": "text/x-python",
   "name": "python",
   "nbconvert_exporter": "python",
   "pygments_lexer": "ipython3",
   "version": "3.6.4"
  }
 },
 "nbformat": 4,
 "nbformat_minor": 2
}
